{
 "cells": [
  {
   "cell_type": "code",
   "execution_count": 15,
   "id": "1fb9ed7e",
   "metadata": {},
   "outputs": [],
   "source": [
    "import pandas as pd \n",
    "import numpy as np\n",
    "import matplotlib.pyplot as plt\n",
    "import warnings\n",
    "from sklearn.linear_model import LinearRegression\n",
    "import warnings"
   ]
  },
  {
   "cell_type": "code",
   "execution_count": 19,
   "id": "5b343de4",
   "metadata": {},
   "outputs": [
    {
     "name": "stdout",
     "output_type": "stream",
     "text": [
      "     Date  Market\n",
      "0  200401    2.22\n",
      "1  200402    1.46\n",
      "2  200403   -1.23\n",
      "3  200404   -1.75\n",
      "4  200405    1.23\n"
     ]
    },
    {
     "name": "stderr",
     "output_type": "stream",
     "text": [
      "/Library/Frameworks/Python.framework/Versions/3.12/lib/python3.12/site-packages/openpyxl/worksheet/_reader.py:329: UserWarning: Unknown extension is not supported and will be removed\n",
      "  warn(msg)\n",
      "/Library/Frameworks/Python.framework/Versions/3.12/lib/python3.12/site-packages/openpyxl/worksheet/_reader.py:329: UserWarning: Unknown extension is not supported and will be removed\n",
      "  warn(msg)\n"
     ]
    }
   ],
   "source": [
    "marketdf = pd.read_excel(\"/Users/gabriel/Library/Mobile Documents/com~apple~CloudDocs/SMU Masters /QF600 Asset Pricing/Assignment Codes/Market_Portfolio.xlsx\")\n",
    "print(marketdf.head())\n",
    "industrydf = pd.read_excel(\"/Users/gabriel/Library/Mobile Documents/com~apple~CloudDocs/SMU Masters /QF600 Asset Pricing/Assignment Codes/Industry_Portfolios.xlsx\")\n",
    "industrydf = industrydf.drop(columns=\"Date\")\n",
    "marketdf = marketdf.drop(columns=\"Date\")\n",
    "warnings.filterwarnings(\"ignore\", category=UserWarning, module=\"openpyxl\")\n",
    "rf = 0.13"
   ]
  },
  {
   "cell_type": "code",
   "execution_count": 20,
   "id": "eb7e0adf",
   "metadata": {},
   "outputs": [],
   "source": [
    "def MarketModel(data_portfolio, rf, data_market):\n",
    "    data_portfolio = data_portfolio.copy()\n",
    "    data_market = data_market.copy()\n",
    "    data_market = data_market.reindex(data_portfolio.index)\n",
    "    excess_market_returns = data_market.squeeze() - rf \n",
    "    excess_portfolio_returns = data_portfolio - rf   \n",
    "    \n",
    "    alphas = []\n",
    "    betas = []\n",
    "    r_squared = []\n",
    "    correlations = []\n",
    "    \n",
    "    portfolios = excess_portfolio_returns.columns.tolist()\n",
    "    for portfolio in portfolios:\n",
    "        y = excess_portfolio_returns[portfolio]\n",
    "        x = excess_market_returns\n",
    "        df = pd.concat([x, y], axis=1).dropna()\n",
    "        x_clean = df.iloc[:, 0].values.reshape(-1, 1)\n",
    "        y_clean = df.iloc[:, 1].values                 \n",
    "        model = LinearRegression().fit(x_clean, y_clean)\n",
    "        alpha = model.intercept_\n",
    "        beta = model.coef_[0]\n",
    "        r2 = model.score(x_clean, y_clean)\n",
    "        corr = np.corrcoef(x_clean.flatten(), y_clean)[0, 1]\n",
    "        alphas.append(alpha)\n",
    "        betas.append(beta)\n",
    "        r_squared.append(r2)\n",
    "        correlations.append(corr)\n",
    "    \n",
    "    results = pd.DataFrame({\n",
    "        'Alpha': alphas,\n",
    "        'Beta': betas,\n",
    "#         'R-squared': r_squared,\n",
    "#         'Correlation': correlations\n",
    "    }, index=portfolios)\n",
    "\n",
    "    results.loc['Market'] = [0.0, 1.0]\n",
    "    results = results.round(6)\n",
    "    \n",
    "    return results\n",
    "\n",
    "\n",
    "def plot_SML(beta_range, sml_line, capm_data):\n",
    "    plt.figure(figsize=(10, 6))\n",
    "    plt.plot(beta_range, sml_line, label='Security Market Line (SML)', color='red')\n",
    "    plt.scatter(capm_data['Beta'], capm_data['Mean_Return'], color='blue', label='Portfolios and Market')\n",
    "    plt.xlabel('Beta')\n",
    "    plt.ylabel('Mean Monthly Return (%)')\n",
    "    plt.title('Security Market Line (SML)')\n",
    "    plt.legend()\n",
    "    plt.grid(True)\n",
    "    plt.show()\n",
    "\n",
    "def CAPM_SML(data_portfolio, data_market, rf, market_model_results):\n",
    "    mean_returns_portfolio = data_portfolio.mean()\n",
    "    mean_return_market = data_market.mean()[0]\n",
    "\n",
    "    capm_data = pd.DataFrame({\n",
    "        'Mean_Return': mean_returns_portfolio,\n",
    "        'Beta': market_model_results.loc[data_portfolio.columns, 'Beta']\n",
    "    })\n",
    "\n",
    "    market_data = pd.DataFrame({\n",
    "        'Mean_Return': [mean_return_market],\n",
    "        'Beta': [1]\n",
    "    }, index=['Market'])\n",
    "\n",
    "    capm_data = pd.concat([capm_data, market_data])\n",
    "\n",
    "    X = capm_data['Beta'].values.reshape(-1, 1)\n",
    "    Y = capm_data['Mean_Return'].values\n",
    "    capm_model = LinearRegression().fit(X, Y)\n",
    "    capm_alpha = capm_model.intercept_\n",
    "    capm_beta = capm_model.coef_[0]\n",
    "    capm_r_squared = capm_model.score(X, Y)\n",
    "\n",
    "    print(f\"CAPM Regression Results:\")\n",
    "    print(f\"Alpha (Risk-Free Rate Estimate): {capm_alpha:.6f}%\")\n",
    "    print(f\"Beta (Market Risk Premium Estimate): {capm_beta:.6f}\")\n",
    "#     print(f\"R-squared: {capm_r_squared:.6f}\")\n",
    "\n",
    "#     beta_range = np.linspace(0, 2, 100)\n",
    "#     sml_line = capm_alpha + capm_beta * beta_range\n",
    "#     plot_SML(beta_range, sml_line, capm_data)\n",
    "\n",
    "    # Plotting the SML\n",
    "    beta_range = np.linspace(0, 2, 100)\n",
    "    sml_line = capm_alpha + capm_beta * beta_range\n",
    "\n",
    "    # Plot the SML and data points\n",
    "    plt.figure(figsize=(10, 6))\n",
    "    plt.plot(beta_range, sml_line, label='Security Market Line', color='blue')\n",
    "    \n",
    "    # Plot individual portfolio points\n",
    "    plt.scatter(capm_data['Beta'], capm_data['Mean_Return'], color='green', label='Portfolios')\n",
    "\n",
    "    # Highlight the market portfolio as a red dot\n",
    "    plt.scatter(1, mean_return_market, color='red', label='Market Portfolio', s=100)\n",
    "\n",
    "    # Add labels and title\n",
    "    plt.title('Security Market Line (SML)')\n",
    "    plt.xlabel('Beta')\n",
    "    plt.ylabel('Mean Return')\n",
    "    plt.legend()\n",
    "    plt.grid(True)\n",
    "\n",
    "    return capm_data\n",
    "\n",
    "\n",
    "def format_float(x):\n",
    "    return '{:.6f}'.format(x)\n"
   ]
  },
  {
   "cell_type": "code",
   "execution_count": 21,
   "id": "e480488f",
   "metadata": {},
   "outputs": [],
   "source": [
    "mm = MarketModel(industrydf, rf, marketdf)"
   ]
  },
  {
   "cell_type": "code",
   "execution_count": 22,
   "id": "d811a4ef",
   "metadata": {},
   "outputs": [
    {
     "data": {
      "text/html": [
       "<div>\n",
       "<style scoped>\n",
       "    .dataframe tbody tr th:only-of-type {\n",
       "        vertical-align: middle;\n",
       "    }\n",
       "\n",
       "    .dataframe tbody tr th {\n",
       "        vertical-align: top;\n",
       "    }\n",
       "\n",
       "    .dataframe thead th {\n",
       "        text-align: right;\n",
       "    }\n",
       "</style>\n",
       "<table border=\"1\" class=\"dataframe\">\n",
       "  <thead>\n",
       "    <tr style=\"text-align: right;\">\n",
       "      <th></th>\n",
       "      <th>Alpha</th>\n",
       "      <th>Beta</th>\n",
       "    </tr>\n",
       "  </thead>\n",
       "  <tbody>\n",
       "    <tr>\n",
       "      <th>NoDur</th>\n",
       "      <td>0.369443</td>\n",
       "      <td>0.652647</td>\n",
       "    </tr>\n",
       "    <tr>\n",
       "      <th>Durbl</th>\n",
       "      <td>-0.415599</td>\n",
       "      <td>1.648536</td>\n",
       "    </tr>\n",
       "    <tr>\n",
       "      <th>Manuf</th>\n",
       "      <td>0.159771</td>\n",
       "      <td>1.169846</td>\n",
       "    </tr>\n",
       "    <tr>\n",
       "      <th>Enrgy</th>\n",
       "      <td>0.501719</td>\n",
       "      <td>0.969850</td>\n",
       "    </tr>\n",
       "    <tr>\n",
       "      <th>HiTec</th>\n",
       "      <td>-0.064020</td>\n",
       "      <td>1.132969</td>\n",
       "    </tr>\n",
       "    <tr>\n",
       "      <th>Telcm</th>\n",
       "      <td>0.194691</td>\n",
       "      <td>0.900729</td>\n",
       "    </tr>\n",
       "    <tr>\n",
       "      <th>Shops</th>\n",
       "      <td>0.275492</td>\n",
       "      <td>0.826492</td>\n",
       "    </tr>\n",
       "    <tr>\n",
       "      <th>Hlth</th>\n",
       "      <td>0.237841</td>\n",
       "      <td>0.673036</td>\n",
       "    </tr>\n",
       "    <tr>\n",
       "      <th>Utils</th>\n",
       "      <td>0.444585</td>\n",
       "      <td>0.538086</td>\n",
       "    </tr>\n",
       "    <tr>\n",
       "      <th>Other</th>\n",
       "      <td>-0.387135</td>\n",
       "      <td>1.207309</td>\n",
       "    </tr>\n",
       "    <tr>\n",
       "      <th>Market</th>\n",
       "      <td>0.000000</td>\n",
       "      <td>1.000000</td>\n",
       "    </tr>\n",
       "  </tbody>\n",
       "</table>\n",
       "</div>"
      ],
      "text/plain": [
       "            Alpha      Beta\n",
       "NoDur    0.369443  0.652647\n",
       "Durbl   -0.415599  1.648536\n",
       "Manuf    0.159771  1.169846\n",
       "Enrgy    0.501719  0.969850\n",
       "HiTec   -0.064020  1.132969\n",
       "Telcm    0.194691  0.900729\n",
       "Shops    0.275492  0.826492\n",
       "Hlth     0.237841  0.673036\n",
       "Utils    0.444585  0.538086\n",
       "Other   -0.387135  1.207309\n",
       "Market   0.000000  1.000000"
      ]
     },
     "execution_count": 22,
     "metadata": {},
     "output_type": "execute_result"
    }
   ],
   "source": [
    "mm['Alpha'] = mm['Alpha'].apply(format_float)\n",
    "mm"
   ]
  },
  {
   "cell_type": "code",
   "execution_count": 23,
   "id": "8ca3c8b0",
   "metadata": {},
   "outputs": [
    {
     "name": "stdout",
     "output_type": "stream",
     "text": [
      "CAPM Regression Results:\n",
      "Alpha (Risk-Free Rate Estimate): 1.032768%\n",
      "Beta (Market Risk Premium Estimate): -0.185467\n",
      "        Mean_Return      Beta\n",
      "NoDur      0.902833  0.652647\n",
      "Durbl      0.733333  1.648536\n",
      "Manuf      1.012833  1.169846\n",
      "Enrgy      1.231167  0.969850\n",
      "HiTec      0.766250  1.132969\n",
      "Telcm      0.881417  0.900729\n",
      "Shops      0.916333  0.826492\n",
      "Hlth       0.783833  0.673036\n",
      "Utils      0.907167  0.538086\n",
      "Other      0.489083  1.207309\n",
      "Market     0.748083  1.000000\n"
     ]
    },
    {
     "name": "stderr",
     "output_type": "stream",
     "text": [
      "/var/folders/sq/ksw261bx2z55047vw8nlw2280000gn/T/ipykernel_91599/1971539051.py:56: FutureWarning: Series.__getitem__ treating keys as positions is deprecated. In a future version, integer keys will always be treated as labels (consistent with DataFrame behavior). To access a value by position, use `ser.iloc[pos]`\n",
      "  mean_return_market = data_market.mean()[0]\n"
     ]
    },
    {
     "data": {
      "image/png": "[encoded data removed]",
      "text/plain": [
       "<Figure size 1000x600 with 1 Axes>"
      ]
     },
     "metadata": {},
     "output_type": "display_data"
    }
   ],
   "source": [
    "capm_sml = CAPM_SML(industrydf, marketdf, rf, mm)\n",
    "print(capm_sml)"
   ]
  },
  {
   "cell_type": "markdown",
   "id": "999cc15b",
   "metadata": {},
   "source": [
    "Q1: In the market model, the alpha (\"Intercept\") represents the part of the security's return that is independent of the market. It is the portion of the return that cannot be explained by the movements of the overall market movement captured by the market return and epsilon (Unsystematic/Idiosyncratic risk). It reflects an asset's outperformance or underperformance.\n",
    "\n",
    "Beta is a scalar that reflects the sensitivty of a security's return to the return of the overall market and the asset's exposure or sensitivity to systematic (Market Risk). All else being equal (Alpha and Epsilon), the beta gives the change in the asset's return for a 1 unit change in market return. It can also be a measure of market risk. A Beta > 1 shows that the security is more volatile than the market. Similarly, a Beta of < 1 is less volatile than the market. A Beta of 1 is equal to the market. Finally, a Beta of < 0 shows that the asset moves inversely to the market. \n"
   ]
  },
  {
   "cell_type": "markdown",
   "id": "dd6db7ef",
   "metadata": {},
   "source": [
    "Q2: The SML is a visual depiction of the risk-return tradeoff. It depicts the expected return for a security given its beta (market risk). It highlights that the asset depends on the risk-free rate, the market risk premium and the asset's beta. To an investor, it answers the question: If my asset has this amount of beta and given the current risk free rate and market return, what should my asset's expected return be. \n",
    "\n",
    "For pricing: Assets on the SML are fairly priced and this highlights that their expected return is in line with the level of market risk an investor faces for holding it. Assets above the SML are underpriced because they offer a higher expected return for their level of risk than what the SML says it should have been. This presents a good investment opportunity. Assets below the SML are underpriced because their provide too little returns for the amount of risk an investor takes on when they hold it. \n",
    "\n"
   ]
  },
  {
   "cell_type": "code",
   "execution_count": null,
   "id": "5bbd6186",
   "metadata": {},
   "outputs": [],
   "source": []
  }
 ],
 "metadata": {
  "kernelspec": {
   "display_name": "Python 3 (ipykernel)",
   "language": "python",
   "name": "python3"
  },
  "language_info": {
   "codemirror_mode": {
    "name": "ipython",
    "version": 3
   },
   "file_extension": ".py",
   "mimetype": "text/x-python",
   "name": "python",
   "nbconvert_exporter": "python",
   "pygments_lexer": "ipython3",
   "version": "3.12.0"
  }
 },
 "nbformat": 4,
 "nbformat_minor": 5
}
